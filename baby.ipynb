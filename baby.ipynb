{
  "nbformat": 4,
  "nbformat_minor": 0,
  "metadata": {
    "colab": {
      "name": "baby.ipynb",
      "provenance": [],
      "include_colab_link": true
    },
    "kernelspec": {
      "name": "python3",
      "display_name": "Python 3"
    }
  },
  "cells": [
    {
      "cell_type": "markdown",
      "metadata": {
        "id": "view-in-github",
        "colab_type": "text"
      },
      "source": [
        "<a href=\"https://colab.research.google.com/github/Kowsher/Medical-Baby-Delivery-classification-/blob/master/baby.ipynb\" target=\"_parent\"><img src=\"https://colab.research.google.com/assets/colab-badge.svg\" alt=\"Open In Colab\"/></a>"
      ]
    },
    {
      "cell_type": "code",
      "metadata": {
        "id": "_Ap5LtYdeUFG",
        "colab_type": "code",
        "colab": {}
      },
      "source": [
        "# Importing the libraries\n",
        "import numpy as np\n",
        "import matplotlib.pyplot as plt\n",
        "import pandas as pd"
      ],
      "execution_count": 0,
      "outputs": []
    },
    {
      "cell_type": "code",
      "metadata": {
        "id": "koknLvxChHS1",
        "colab_type": "code",
        "colab": {}
      },
      "source": [
        "# Importing the dataset\n",
        "dataset = pd.read_csv('KP.csv')\n"
      ],
      "execution_count": 0,
      "outputs": []
    },
    {
      "cell_type": "code",
      "metadata": {
        "id": "dQ3J3Hcyo0d3",
        "colab_type": "code",
        "colab": {
          "base_uri": "https://localhost:8080/",
          "height": 240
        },
        "outputId": "c9ab9540-a798-42e6-e7db-5589c55e3a99"
      },
      "source": [
        "dataset.head()"
      ],
      "execution_count": 28,
      "outputs": [
        {
          "output_type": "execute_result",
          "data": {
            "text/html": [
              "<div>\n",
              "<style scoped>\n",
              "    .dataframe tbody tr th:only-of-type {\n",
              "        vertical-align: middle;\n",
              "    }\n",
              "\n",
              "    .dataframe tbody tr th {\n",
              "        vertical-align: top;\n",
              "    }\n",
              "\n",
              "    .dataframe thead th {\n",
              "        text-align: right;\n",
              "    }\n",
              "</style>\n",
              "<table border=\"1\" class=\"dataframe\">\n",
              "  <thead>\n",
              "    <tr style=\"text-align: right;\">\n",
              "      <th></th>\n",
              "      <th>AGE</th>\n",
              "      <th>PARA</th>\n",
              "      <th>GRAVIDA</th>\n",
              "      <th>DIASTOLIC</th>\n",
              "      <th>SOISTOLIC</th>\n",
              "      <th>CERVIX(OS)</th>\n",
              "      <th>FHR(BPM)</th>\n",
              "      <th>REASON</th>\n",
              "      <th>PRESENTATION</th>\n",
              "      <th>MEMBRAME</th>\n",
              "      <th>DELEVERY TIME</th>\n",
              "      <th>RESULT</th>\n",
              "    </tr>\n",
              "  </thead>\n",
              "  <tbody>\n",
              "    <tr>\n",
              "      <th>0</th>\n",
              "      <td>20</td>\n",
              "      <td>1</td>\n",
              "      <td>2</td>\n",
              "      <td>110</td>\n",
              "      <td>70</td>\n",
              "      <td>9.5</td>\n",
              "      <td>120</td>\n",
              "      <td>FTPLP</td>\n",
              "      <td>CAPHALIC</td>\n",
              "      <td>INTACTED</td>\n",
              "      <td>5.0</td>\n",
              "      <td>0</td>\n",
              "    </tr>\n",
              "    <tr>\n",
              "      <th>1</th>\n",
              "      <td>20</td>\n",
              "      <td>0</td>\n",
              "      <td>1</td>\n",
              "      <td>120</td>\n",
              "      <td>80</td>\n",
              "      <td>10.0</td>\n",
              "      <td>130</td>\n",
              "      <td>FTPLP</td>\n",
              "      <td>CAPHALIC</td>\n",
              "      <td>INTACTED</td>\n",
              "      <td>4.2</td>\n",
              "      <td>0</td>\n",
              "    </tr>\n",
              "    <tr>\n",
              "      <th>2</th>\n",
              "      <td>32</td>\n",
              "      <td>2</td>\n",
              "      <td>3</td>\n",
              "      <td>140</td>\n",
              "      <td>100</td>\n",
              "      <td>3.0</td>\n",
              "      <td>100</td>\n",
              "      <td>LNHTN</td>\n",
              "      <td>BREACH</td>\n",
              "      <td>LEAKING</td>\n",
              "      <td>4.0</td>\n",
              "      <td>1</td>\n",
              "    </tr>\n",
              "    <tr>\n",
              "      <th>3</th>\n",
              "      <td>27</td>\n",
              "      <td>2</td>\n",
              "      <td>3</td>\n",
              "      <td>110</td>\n",
              "      <td>70</td>\n",
              "      <td>3.5</td>\n",
              "      <td>100</td>\n",
              "      <td>OL</td>\n",
              "      <td>OBLIC</td>\n",
              "      <td>INTACTED</td>\n",
              "      <td>7.0</td>\n",
              "      <td>1</td>\n",
              "    </tr>\n",
              "    <tr>\n",
              "      <th>4</th>\n",
              "      <td>25</td>\n",
              "      <td>1</td>\n",
              "      <td>2</td>\n",
              "      <td>120</td>\n",
              "      <td>80</td>\n",
              "      <td>10.0</td>\n",
              "      <td>140</td>\n",
              "      <td>FTPLP</td>\n",
              "      <td>CAPHALIC</td>\n",
              "      <td>INTACTED</td>\n",
              "      <td>3.0</td>\n",
              "      <td>0</td>\n",
              "    </tr>\n",
              "  </tbody>\n",
              "</table>\n",
              "</div>"
            ],
            "text/plain": [
              "   AGE  PARA  GRAVIDA  DIASTOLIC  ...  PRESENTATION   MEMBRAME  DELEVERY TIME RESULT\n",
              "0   20     1        2        110  ...       CAPHALIC  INTACTED            5.0      0\n",
              "1   20     0        1        120  ...       CAPHALIC  INTACTED            4.2      0\n",
              "2   32     2        3        140  ...         BREACH   LEAKING            4.0      1\n",
              "3   27     2        3        110  ...          OBLIC  INTACTED            7.0      1\n",
              "4   25     1        2        120  ...       CAPHALIC  INTACTED            3.0      0\n",
              "\n",
              "[5 rows x 12 columns]"
            ]
          },
          "metadata": {
            "tags": []
          },
          "execution_count": 28
        }
      ]
    },
    {
      "cell_type": "code",
      "metadata": {
        "id": "Cmk2bUQtmfNV",
        "colab_type": "code",
        "colab": {}
      },
      "source": [
        "# Encoding categorical data\n",
        "from sklearn import preprocessing \n",
        "le = preprocessing.LabelEncoder()\n",
        "dataset = dataset.apply(le.fit_transform)"
      ],
      "execution_count": 0,
      "outputs": []
    },
    {
      "cell_type": "code",
      "metadata": {
        "id": "Q9GPmHuM2uP8",
        "colab_type": "code",
        "colab": {}
      },
      "source": [
        "X = dataset.iloc[:, 0:6].values\n",
        "y = dataset.iloc[:, 9].values\n",
        "\n"
      ],
      "execution_count": 0,
      "outputs": []
    },
    {
      "cell_type": "code",
      "metadata": {
        "id": "uAGkN5kb2wmC",
        "colab_type": "code",
        "colab": {}
      },
      "source": [
        "# Splitting the dataset into the Training set and Test set\n",
        "from sklearn.model_selection import train_test_split\n",
        "X_train, X_test, y_train, y_test = train_test_split(X, y, test_size = 0.25, random_state = 0)\n"
      ],
      "execution_count": 0,
      "outputs": []
    },
    {
      "cell_type": "code",
      "metadata": {
        "id": "bdzqRBus3Puz",
        "colab_type": "code",
        "colab": {}
      },
      "source": [
        "# Feature Scaling\n",
        "from sklearn.preprocessing import StandardScaler\n",
        "sc = StandardScaler()\n",
        "X_train = sc.fit_transform(X_train)\n",
        "X_test = sc.transform(X_test)\n"
      ],
      "execution_count": 0,
      "outputs": []
    },
    {
      "cell_type": "code",
      "metadata": {
        "id": "BepszoM83EYi",
        "colab_type": "code",
        "colab": {
          "base_uri": "https://localhost:8080/",
          "height": 71
        },
        "outputId": "70276a6d-49f6-480d-c55e-195a42c70f64"
      },
      "source": [
        "# Fitting Logistic Regression to the Training set\n",
        "from sklearn.linear_model import LogisticRegression\n",
        "classifier = LogisticRegression(random_state = 0)\n",
        "classifier.fit(X_train, y_train)\n",
        "\n",
        "# Predicting the Test set results\n",
        "y_pred = classifier.predict(X_test)"
      ],
      "execution_count": 107,
      "outputs": [
        {
          "output_type": "stream",
          "text": [
            "/usr/local/lib/python3.6/dist-packages/sklearn/linear_model/logistic.py:432: FutureWarning: Default solver will be changed to 'lbfgs' in 0.22. Specify a solver to silence this warning.\n",
            "  FutureWarning)\n"
          ],
          "name": "stderr"
        }
      ]
    },
    {
      "cell_type": "code",
      "metadata": {
        "id": "qGY7RxFf3bNG",
        "colab_type": "code",
        "colab": {
          "base_uri": "https://localhost:8080/",
          "height": 68
        },
        "outputId": "78b347dd-05c3-424f-edc0-7e3a53c8dc54"
      },
      "source": [
        "# Making the Confusion Matrix\n",
        "from sklearn.metrics import confusion_matrix\n",
        "cm = confusion_matrix(y_test, y_pred)\n",
        "from sklearn.metrics import f1_score\n",
        "f1 = f1_score(y_test, y_pred, average='macro')\n",
        "cm1 = (cm[0][0]+cm[1][1])/(cm[0][0]+cm[1][1]+cm[0][1]+cm[1][0])\n",
        "print(\"cm = \", cm)\n",
        "print(\"f1 = \", f1)"
      ],
      "execution_count": 108,
      "outputs": [
        {
          "output_type": "stream",
          "text": [
            "cm =  [[104   4]\n",
            " [  5  44]]\n",
            "f1 =  0.9328709202337403\n"
          ],
          "name": "stdout"
        }
      ]
    },
    {
      "cell_type": "code",
      "metadata": {
        "id": "0UA2UKpj7RpU",
        "colab_type": "code",
        "colab": {}
      },
      "source": [
        "y1 = X_train[:, 0]\n",
        "y2 = X_train[:, 1]\n",
        "y3 = X_train[:, 2]\n",
        "y4 = X_train[:, 3]\n",
        "y5 = X_train[:, 4]\n",
        "y6 = X_train[:, 5]\n"
      ],
      "execution_count": 0,
      "outputs": []
    },
    {
      "cell_type": "code",
      "metadata": {
        "id": "RoS32e0E7XkR",
        "colab_type": "code",
        "colab": {}
      },
      "source": [
        "yt1 = X_test[:, 0]\n",
        "yt2 = X_test[:, 1]\n",
        "yt3 = X_test[:, 2]\n",
        "yt4 = X_test[:, 3]\n",
        "yt5 = X_test[:, 4]\n",
        "yt6 = X_test[:, 5]"
      ],
      "execution_count": 0,
      "outputs": []
    },
    {
      "cell_type": "code",
      "metadata": {
        "id": "LeugmNk57YoJ",
        "colab_type": "code",
        "colab": {}
      },
      "source": [
        "from scipy.optimize import curve_fit\n",
        "\n",
        "def test_func1(X, a, b, c, d, e, f, g, h):\n",
        "    y1, y2, y3, y4, y5, y6 = X\n",
        "\n",
        "    return ((1/(b))*(a-c*y1-d*y2-e*y3-f*y4-g*y5-h*y6- (1/1))) \n",
        "p0 = [2, 2, 2, 2, 2, 2, 2, 2]        # initial guesses\n",
        "c,cov = curve_fit(test_func1, (y1, y2, y3, y4, y5, y6), y_train, p0)  # fit model\n",
        "\n"
      ],
      "execution_count": 0,
      "outputs": []
    },
    {
      "cell_type": "code",
      "metadata": {
        "id": "RVOT02_47qZs",
        "colab_type": "code",
        "colab": {}
      },
      "source": [
        "yx = test_func1((yt1, yt2, yt3, yt4, yt5, yt6),c[0],c[1],c[2],c[3],c[4],c[5],c[6], c[7])\n"
      ],
      "execution_count": 0,
      "outputs": []
    },
    {
      "cell_type": "code",
      "metadata": {
        "id": "3IuyQ5r07wjZ",
        "colab_type": "code",
        "colab": {
          "base_uri": "https://localhost:8080/",
          "height": 34
        },
        "outputId": "ddd21835-0f87-4c78-edc7-e7371e026299"
      },
      "source": [
        "mi = 1\n",
        "mx = 0\n",
        "su = 0\n",
        "for i in range(len(yx)):\n",
        "  if yx[i]>mx:\n",
        "    mx = yx[i]\n",
        "  if yx[i]<mi:\n",
        "    mi = yx[i]\n",
        "  su = su + yx[i]\n",
        "print(mx, mi, (mx + mi), su/len(yx))"
      ],
      "execution_count": 114,
      "outputs": [
        {
          "output_type": "stream",
          "text": [
            "1.4320816373436638 -0.08244391370524873 1.349637723638415 0.34406402868902763\n"
          ],
          "name": "stdout"
        }
      ]
    },
    {
      "cell_type": "code",
      "metadata": {
        "id": "la5ZDjtC71gz",
        "colab_type": "code",
        "colab": {
          "base_uri": "https://localhost:8080/",
          "height": 86
        },
        "outputId": "6dbe1398-7b97-4179-a383-05a1902975e1"
      },
      "source": [
        "t_data = []\n",
        "for i in range(len(yx)):\n",
        "  if yx[i]>0.35:\n",
        "    t_data.append(1)\n",
        "  else:\n",
        "    t_data.append(0)\n",
        "\n",
        "# Making the Confusion Matrix\n",
        "from sklearn.metrics import confusion_matrix\n",
        "cm = confusion_matrix(y_test, t_data)\n",
        "from sklearn.metrics import f1_score\n",
        "f1 = f1_score(y_test, t_data, average='macro')\n",
        "cm1 = (cm[0][0]+cm[1][1])/(cm[0][0]+cm[1][1]+cm[0][1]+cm[1][0])\n",
        "print(\"cm = \", cm1)\n",
        "print(cm)\n",
        "print(\"f1 = \", f1)"
      ],
      "execution_count": 122,
      "outputs": [
        {
          "output_type": "stream",
          "text": [
            "cm =  0.9808917197452229\n",
            "[[106   2]\n",
            " [  1  48]]\n",
            "f1 =  0.9778717406624384\n"
          ],
          "name": "stdout"
        }
      ]
    },
    {
      "cell_type": "code",
      "metadata": {
        "id": "ojZi_iy48PhA",
        "colab_type": "code",
        "colab": {
          "base_uri": "https://localhost:8080/",
          "height": 51
        },
        "outputId": "01664ce4-ba2b-4b6c-ad1b-80ca472174d1"
      },
      "source": [
        "# Fitting Kernel SVM to the Training set\n",
        "from sklearn.svm import SVC\n",
        "classifier = SVC(kernel = 'rbf', random_state = 0)\n",
        "classifier.fit(X_train, y_train)\n",
        "\n",
        "# Predicting the Test set results\n",
        "y_pred = classifier.predict(X_test)\n",
        "# Making the Confusion Matrix\n",
        "from sklearn.metrics import confusion_matrix\n",
        "cm = confusion_matrix(y_test, y_pred)\n",
        "from sklearn.metrics import f1_score\n",
        "f1 = f1_score(y_test, y_pred, average='macro')\n",
        "cm1 = (cm[0][0]+cm[1][1])/(cm[0][0]+cm[1][1]+cm[0][1]+cm[1][0])\n",
        "print(\"cm = \", cm1)\n",
        "print(\"f1 = \", f1)"
      ],
      "execution_count": 123,
      "outputs": [
        {
          "output_type": "stream",
          "text": [
            "cm =  0.9171974522292994\n",
            "f1 =  0.9069947596263386\n"
          ],
          "name": "stdout"
        }
      ]
    },
    {
      "cell_type": "code",
      "metadata": {
        "id": "ltHoiY6G8bhf",
        "colab_type": "code",
        "colab": {
          "base_uri": "https://localhost:8080/",
          "height": 51
        },
        "outputId": "6b202ed6-e9e9-4d9d-9811-0390f778db5d"
      },
      "source": [
        "# Fitting Naive Bayes to the Training set\n",
        "from sklearn.naive_bayes import GaussianNB\n",
        "classifier = GaussianNB()\n",
        "classifier.fit(X_train, y_train)\n",
        "\n",
        "# Predicting the Test set results\n",
        "y_pred = classifier.predict(X_test)\n",
        "# Making the Confusion Matrix\n",
        "from sklearn.metrics import confusion_matrix\n",
        "cm = confusion_matrix(y_test, y_pred)\n",
        "from sklearn.metrics import f1_score\n",
        "f1 = f1_score(y_test, y_pred, average='macro')\n",
        "cm1 = (cm[0][0]+cm[1][1])/(cm[0][0]+cm[1][1]+cm[0][1]+cm[1][0])\n",
        "print(\"cm = \", cm1)\n",
        "print(\"f1 = \", f1)"
      ],
      "execution_count": 124,
      "outputs": [
        {
          "output_type": "stream",
          "text": [
            "cm =  0.9745222929936306\n",
            "f1 =  0.9709581945985941\n"
          ],
          "name": "stdout"
        }
      ]
    },
    {
      "cell_type": "code",
      "metadata": {
        "id": "7kbvilD28gpR",
        "colab_type": "code",
        "colab": {
          "base_uri": "https://localhost:8080/",
          "height": 106
        },
        "outputId": "0aa42409-152c-4e18-e4cc-6f095b189d9a"
      },
      "source": [
        "# Fitting Logistic Regression to the Training set\n",
        "from sklearn.linear_model import LogisticRegression\n",
        "classifier = LogisticRegression(random_state = 0)\n",
        "classifier.fit(X_train, y_train)\n",
        "\n",
        "# Predicting the Test set results\n",
        "y_pred = classifier.predict(X_test)\n",
        "# Making the Confusion Matrix\n",
        "from sklearn.metrics import confusion_matrix\n",
        "cm = confusion_matrix(y_test, y_pred)\n",
        "from sklearn.metrics import f1_score\n",
        "f1 = f1_score(y_test, y_pred, average='macro')\n",
        "cm1 = (cm[0][0]+cm[1][1])/(cm[0][0]+cm[1][1]+cm[0][1]+cm[1][0])\n",
        "print(\"cm = \", cm1)\n",
        "print(\"f1 = \", f1)"
      ],
      "execution_count": 125,
      "outputs": [
        {
          "output_type": "stream",
          "text": [
            "cm =  0.9426751592356688\n",
            "f1 =  0.9328709202337403\n"
          ],
          "name": "stdout"
        },
        {
          "output_type": "stream",
          "text": [
            "/usr/local/lib/python3.6/dist-packages/sklearn/linear_model/logistic.py:432: FutureWarning: Default solver will be changed to 'lbfgs' in 0.22. Specify a solver to silence this warning.\n",
            "  FutureWarning)\n"
          ],
          "name": "stderr"
        }
      ]
    },
    {
      "cell_type": "code",
      "metadata": {
        "id": "T2DVIytu8k5x",
        "colab_type": "code",
        "colab": {
          "base_uri": "https://localhost:8080/",
          "height": 51
        },
        "outputId": "d4c0e30c-dd5a-483c-dead-efb6c228c98b"
      },
      "source": [
        "# Fitting K-NN to the Training set\n",
        "from sklearn.neighbors import KNeighborsClassifier\n",
        "classifier = KNeighborsClassifier(n_neighbors = 5, metric = 'minkowski', p = 2)\n",
        "classifier.fit(X_train, y_train)\n",
        "\n",
        "\n",
        "\n",
        "# Predicting the Test set results\n",
        "y_pred = classifier.predict(X_test)\n",
        "# Making the Confusion Matrix\n",
        "from sklearn.metrics import confusion_matrix\n",
        "cm = confusion_matrix(y_test, y_pred)\n",
        "from sklearn.metrics import f1_score\n",
        "f1 = f1_score(y_test, y_pred, average='macro')\n",
        "cm1 = (cm[0][0]+cm[1][1])/(cm[0][0]+cm[1][1]+cm[0][1]+cm[1][0])\n",
        "print(\"cm = \", cm1)\n",
        "print(\"f1 = \", f1)"
      ],
      "execution_count": 126,
      "outputs": [
        {
          "output_type": "stream",
          "text": [
            "cm =  0.9554140127388535\n",
            "f1 =  0.9465284873254511\n"
          ],
          "name": "stdout"
        }
      ]
    },
    {
      "cell_type": "code",
      "metadata": {
        "id": "jnIu8Tdf8pIa",
        "colab_type": "code",
        "colab": {
          "base_uri": "https://localhost:8080/",
          "height": 51
        },
        "outputId": "b81f61a1-06c5-49bc-a148-80b91e3a23c4"
      },
      "source": [
        "# Fitting Decision Tree Classification to the Training set\n",
        "from sklearn.tree import DecisionTreeClassifier\n",
        "classifier = DecisionTreeClassifier(criterion = 'entropy', random_state = 0)\n",
        "classifier.fit(X_train, y_train)\n",
        "\n",
        "# Predicting the Test set results\n",
        "y_pred = classifier.predict(X_test)\n",
        "\n",
        "# Making the Confusion Matrix\n",
        "from sklearn.metrics import confusion_matrix\n",
        "cm = confusion_matrix(y_test, y_pred)\n",
        "# Making the Confusion Matrix\n",
        "from sklearn.metrics import confusion_matrix\n",
        "cm = confusion_matrix(y_test, y_pred)\n",
        "from sklearn.metrics import f1_score\n",
        "f1 = f1_score(y_test, y_pred, average='macro')\n",
        "cm1 = (cm[0][0]+cm[1][1])/(cm[0][0]+cm[1][1]+cm[0][1]+cm[1][0])\n",
        "print(\"cm = \", cm1)\n",
        "print(\"f1 = \", f1)"
      ],
      "execution_count": 127,
      "outputs": [
        {
          "output_type": "stream",
          "text": [
            "cm =  0.9363057324840764\n",
            "f1 =  0.9294318590435096\n"
          ],
          "name": "stdout"
        }
      ]
    },
    {
      "cell_type": "code",
      "metadata": {
        "id": "dDGQiQdp8uBE",
        "colab_type": "code",
        "colab": {}
      },
      "source": [
        "from keras import Sequential\n",
        "from keras.layers import Dense"
      ],
      "execution_count": 0,
      "outputs": []
    },
    {
      "cell_type": "code",
      "metadata": {
        "id": "GUnAQC7Q97s-",
        "colab_type": "code",
        "colab": {}
      },
      "source": [
        "classifier = Sequential()\n",
        "#First Hidden Layer\n",
        "classifier.add(Dense(5, activation='relu', kernel_initializer='random_normal', input_dim=6))\n",
        "#Second  Hidden Layer\n",
        "classifier.add(Dense(5, activation='relu', kernel_initializer='random_normal'))\n",
        "#Output Layer\n",
        "classifier.add(Dense(1, activation='sigmoid', kernel_initializer='random_normal'))"
      ],
      "execution_count": 0,
      "outputs": []
    },
    {
      "cell_type": "code",
      "metadata": {
        "id": "8bUekkEe99wV",
        "colab_type": "code",
        "colab": {}
      },
      "source": [
        "#Compiling the neural network\n",
        "classifier.compile(optimizer ='adam',loss='binary_crossentropy', metrics =['accuracy'])"
      ],
      "execution_count": 0,
      "outputs": []
    },
    {
      "cell_type": "code",
      "metadata": {
        "id": "NZF0VL-K-ESO",
        "colab_type": "code",
        "colab": {}
      },
      "source": [
        "#Compiling the neural network\n",
        "classifier.compile(optimizer ='adam',loss='binary_crossentropy', metrics =['accuracy'])"
      ],
      "execution_count": 0,
      "outputs": []
    },
    {
      "cell_type": "code",
      "metadata": {
        "id": "6qz8V3zm-fXN",
        "colab_type": "code",
        "colab": {
          "base_uri": "https://localhost:8080/",
          "height": 1000
        },
        "outputId": "5df65c26-e4f6-44bd-fd7d-a9f84a1ed7ad"
      },
      "source": [
        "#Fitting the data to the training dataset\n",
        "classifier.fit(X_train,y_train, batch_size=10, epochs=100)"
      ],
      "execution_count": 144,
      "outputs": [
        {
          "output_type": "stream",
          "text": [
            "WARNING:tensorflow:From /usr/local/lib/python3.6/dist-packages/keras/backend/tensorflow_backend.py:1033: The name tf.assign_add is deprecated. Please use tf.compat.v1.assign_add instead.\n",
            "\n",
            "WARNING:tensorflow:From /usr/local/lib/python3.6/dist-packages/keras/backend/tensorflow_backend.py:1020: The name tf.assign is deprecated. Please use tf.compat.v1.assign instead.\n",
            "\n",
            "WARNING:tensorflow:From /usr/local/lib/python3.6/dist-packages/keras/backend/tensorflow_backend.py:3005: The name tf.Session is deprecated. Please use tf.compat.v1.Session instead.\n",
            "\n",
            "Epoch 1/100\n",
            "WARNING:tensorflow:From /usr/local/lib/python3.6/dist-packages/keras/backend/tensorflow_backend.py:190: The name tf.get_default_session is deprecated. Please use tf.compat.v1.get_default_session instead.\n",
            "\n",
            "WARNING:tensorflow:From /usr/local/lib/python3.6/dist-packages/keras/backend/tensorflow_backend.py:197: The name tf.ConfigProto is deprecated. Please use tf.compat.v1.ConfigProto instead.\n",
            "\n",
            "WARNING:tensorflow:From /usr/local/lib/python3.6/dist-packages/keras/backend/tensorflow_backend.py:207: The name tf.global_variables is deprecated. Please use tf.compat.v1.global_variables instead.\n",
            "\n",
            "WARNING:tensorflow:From /usr/local/lib/python3.6/dist-packages/keras/backend/tensorflow_backend.py:216: The name tf.is_variable_initialized is deprecated. Please use tf.compat.v1.is_variable_initialized instead.\n",
            "\n",
            "WARNING:tensorflow:From /usr/local/lib/python3.6/dist-packages/keras/backend/tensorflow_backend.py:223: The name tf.variables_initializer is deprecated. Please use tf.compat.v1.variables_initializer instead.\n",
            "\n",
            "41/41 [==============================] - 1s 25ms/step - loss: 0.6934 - acc: 0.3171\n",
            "Epoch 2/100\n",
            "41/41 [==============================] - 0s 360us/step - loss: 0.6932 - acc: 0.3902\n",
            "Epoch 3/100\n",
            "41/41 [==============================] - 0s 363us/step - loss: 0.6930 - acc: 0.5610\n",
            "Epoch 4/100\n",
            "41/41 [==============================] - 0s 336us/step - loss: 0.6928 - acc: 0.5610\n",
            "Epoch 5/100\n",
            "41/41 [==============================] - 0s 290us/step - loss: 0.6926 - acc: 0.5610\n",
            "Epoch 6/100\n",
            "41/41 [==============================] - 0s 287us/step - loss: 0.6925 - acc: 0.5610\n",
            "Epoch 7/100\n",
            "41/41 [==============================] - 0s 223us/step - loss: 0.6924 - acc: 0.5610\n",
            "Epoch 8/100\n",
            "41/41 [==============================] - 0s 241us/step - loss: 0.6923 - acc: 0.5610\n",
            "Epoch 9/100\n",
            "41/41 [==============================] - 0s 203us/step - loss: 0.6921 - acc: 0.5610\n",
            "Epoch 10/100\n",
            "41/41 [==============================] - 0s 197us/step - loss: 0.6920 - acc: 0.5610\n",
            "Epoch 11/100\n",
            "41/41 [==============================] - 0s 199us/step - loss: 0.6918 - acc: 0.5610\n",
            "Epoch 12/100\n",
            "41/41 [==============================] - 0s 193us/step - loss: 0.6917 - acc: 0.5610\n",
            "Epoch 13/100\n",
            "41/41 [==============================] - 0s 236us/step - loss: 0.6914 - acc: 0.5610\n",
            "Epoch 14/100\n",
            "41/41 [==============================] - 0s 244us/step - loss: 0.6910 - acc: 0.5610\n",
            "Epoch 15/100\n",
            "41/41 [==============================] - 0s 237us/step - loss: 0.6906 - acc: 0.5610\n",
            "Epoch 16/100\n",
            "41/41 [==============================] - 0s 238us/step - loss: 0.6899 - acc: 0.5610\n",
            "Epoch 17/100\n",
            "41/41 [==============================] - 0s 238us/step - loss: 0.6894 - acc: 0.5610\n",
            "Epoch 18/100\n",
            "41/41 [==============================] - 0s 200us/step - loss: 0.6886 - acc: 0.5610\n",
            "Epoch 19/100\n",
            "41/41 [==============================] - 0s 252us/step - loss: 0.6875 - acc: 0.5610\n",
            "Epoch 20/100\n",
            "41/41 [==============================] - 0s 245us/step - loss: 0.6862 - acc: 0.5610\n",
            "Epoch 21/100\n",
            "41/41 [==============================] - 0s 240us/step - loss: 0.6846 - acc: 0.5610\n",
            "Epoch 22/100\n",
            "41/41 [==============================] - 0s 273us/step - loss: 0.6828 - acc: 0.5610\n",
            "Epoch 23/100\n",
            "41/41 [==============================] - 0s 251us/step - loss: 0.6804 - acc: 0.6098\n",
            "Epoch 24/100\n",
            "41/41 [==============================] - 0s 228us/step - loss: 0.6778 - acc: 0.7317\n",
            "Epoch 25/100\n",
            "41/41 [==============================] - 0s 264us/step - loss: 0.6748 - acc: 0.8049\n",
            "Epoch 26/100\n",
            "41/41 [==============================] - 0s 238us/step - loss: 0.6713 - acc: 0.8780\n",
            "Epoch 27/100\n",
            "41/41 [==============================] - 0s 249us/step - loss: 0.6672 - acc: 0.9024\n",
            "Epoch 28/100\n",
            "41/41 [==============================] - 0s 235us/step - loss: 0.6628 - acc: 0.9512\n",
            "Epoch 29/100\n",
            "41/41 [==============================] - 0s 209us/step - loss: 0.6577 - acc: 0.9512\n",
            "Epoch 30/100\n",
            "41/41 [==============================] - 0s 229us/step - loss: 0.6521 - acc: 0.9512\n",
            "Epoch 31/100\n",
            "41/41 [==============================] - 0s 192us/step - loss: 0.6461 - acc: 0.9756\n",
            "Epoch 32/100\n",
            "41/41 [==============================] - 0s 260us/step - loss: 0.6393 - acc: 0.9756\n",
            "Epoch 33/100\n",
            "41/41 [==============================] - 0s 231us/step - loss: 0.6318 - acc: 0.9756\n",
            "Epoch 34/100\n",
            "41/41 [==============================] - 0s 239us/step - loss: 0.6238 - acc: 0.9756\n",
            "Epoch 35/100\n",
            "41/41 [==============================] - 0s 247us/step - loss: 0.6156 - acc: 0.9756\n",
            "Epoch 36/100\n",
            "41/41 [==============================] - 0s 280us/step - loss: 0.6059 - acc: 0.9756\n",
            "Epoch 37/100\n",
            "41/41 [==============================] - 0s 257us/step - loss: 0.5960 - acc: 0.9756\n",
            "Epoch 38/100\n",
            "41/41 [==============================] - 0s 240us/step - loss: 0.5860 - acc: 0.9756\n",
            "Epoch 39/100\n",
            "41/41 [==============================] - 0s 220us/step - loss: 0.5752 - acc: 0.9756\n",
            "Epoch 40/100\n",
            "41/41 [==============================] - 0s 202us/step - loss: 0.5643 - acc: 0.9756\n",
            "Epoch 41/100\n",
            "41/41 [==============================] - 0s 267us/step - loss: 0.5524 - acc: 0.9756\n",
            "Epoch 42/100\n",
            "41/41 [==============================] - 0s 235us/step - loss: 0.5409 - acc: 0.9756\n",
            "Epoch 43/100\n",
            "41/41 [==============================] - 0s 213us/step - loss: 0.5286 - acc: 0.9756\n",
            "Epoch 44/100\n",
            "41/41 [==============================] - 0s 252us/step - loss: 0.5155 - acc: 0.9756\n",
            "Epoch 45/100\n",
            "41/41 [==============================] - 0s 254us/step - loss: 0.5031 - acc: 0.9756\n",
            "Epoch 46/100\n",
            "41/41 [==============================] - 0s 208us/step - loss: 0.4904 - acc: 0.9756\n",
            "Epoch 47/100\n",
            "41/41 [==============================] - 0s 201us/step - loss: 0.4777 - acc: 0.9756\n",
            "Epoch 48/100\n",
            "41/41 [==============================] - 0s 210us/step - loss: 0.4648 - acc: 0.9756\n",
            "Epoch 49/100\n",
            "41/41 [==============================] - 0s 224us/step - loss: 0.4515 - acc: 0.9756\n",
            "Epoch 50/100\n",
            "41/41 [==============================] - 0s 235us/step - loss: 0.4384 - acc: 0.9756\n",
            "Epoch 51/100\n",
            "41/41 [==============================] - 0s 246us/step - loss: 0.4257 - acc: 0.9756\n",
            "Epoch 52/100\n",
            "41/41 [==============================] - 0s 225us/step - loss: 0.4120 - acc: 0.9756\n",
            "Epoch 53/100\n",
            "41/41 [==============================] - 0s 208us/step - loss: 0.3991 - acc: 0.9756\n",
            "Epoch 54/100\n",
            "41/41 [==============================] - 0s 190us/step - loss: 0.3865 - acc: 0.9756\n",
            "Epoch 55/100\n",
            "41/41 [==============================] - 0s 246us/step - loss: 0.3739 - acc: 0.9756\n",
            "Epoch 56/100\n",
            "41/41 [==============================] - 0s 247us/step - loss: 0.3627 - acc: 0.9756\n",
            "Epoch 57/100\n",
            "41/41 [==============================] - 0s 219us/step - loss: 0.3530 - acc: 0.9756\n",
            "Epoch 58/100\n",
            "41/41 [==============================] - 0s 231us/step - loss: 0.3432 - acc: 0.9756\n",
            "Epoch 59/100\n",
            "41/41 [==============================] - 0s 223us/step - loss: 0.3328 - acc: 0.9756\n",
            "Epoch 60/100\n",
            "41/41 [==============================] - 0s 253us/step - loss: 0.3224 - acc: 0.9756\n",
            "Epoch 61/100\n",
            "41/41 [==============================] - 0s 263us/step - loss: 0.3123 - acc: 0.9756\n",
            "Epoch 62/100\n",
            "41/41 [==============================] - 0s 253us/step - loss: 0.3024 - acc: 0.9756\n",
            "Epoch 63/100\n",
            "41/41 [==============================] - 0s 244us/step - loss: 0.2923 - acc: 0.9756\n",
            "Epoch 64/100\n",
            "41/41 [==============================] - 0s 261us/step - loss: 0.2827 - acc: 0.9756\n",
            "Epoch 65/100\n",
            "41/41 [==============================] - 0s 240us/step - loss: 0.2737 - acc: 0.9756\n",
            "Epoch 66/100\n",
            "41/41 [==============================] - 0s 238us/step - loss: 0.2647 - acc: 0.9756\n",
            "Epoch 67/100\n",
            "41/41 [==============================] - 0s 211us/step - loss: 0.2558 - acc: 0.9756\n",
            "Epoch 68/100\n",
            "41/41 [==============================] - 0s 208us/step - loss: 0.2483 - acc: 0.9756\n",
            "Epoch 69/100\n",
            "41/41 [==============================] - 0s 224us/step - loss: 0.2403 - acc: 0.9756\n",
            "Epoch 70/100\n",
            "41/41 [==============================] - 0s 217us/step - loss: 0.2333 - acc: 0.9756\n",
            "Epoch 71/100\n",
            "41/41 [==============================] - 0s 233us/step - loss: 0.2266 - acc: 0.9756\n",
            "Epoch 72/100\n",
            "41/41 [==============================] - 0s 175us/step - loss: 0.2196 - acc: 0.9756\n",
            "Epoch 73/100\n",
            "41/41 [==============================] - 0s 177us/step - loss: 0.2136 - acc: 0.9756\n",
            "Epoch 74/100\n",
            "41/41 [==============================] - 0s 215us/step - loss: 0.2076 - acc: 0.9756\n",
            "Epoch 75/100\n",
            "41/41 [==============================] - 0s 218us/step - loss: 0.2016 - acc: 0.9756\n",
            "Epoch 76/100\n",
            "41/41 [==============================] - 0s 195us/step - loss: 0.1962 - acc: 0.9756\n",
            "Epoch 77/100\n",
            "41/41 [==============================] - 0s 234us/step - loss: 0.1911 - acc: 0.9756\n",
            "Epoch 78/100\n",
            "41/41 [==============================] - 0s 187us/step - loss: 0.1867 - acc: 0.9756\n",
            "Epoch 79/100\n",
            "41/41 [==============================] - 0s 185us/step - loss: 0.1821 - acc: 0.9756\n",
            "Epoch 80/100\n",
            "41/41 [==============================] - 0s 216us/step - loss: 0.1775 - acc: 0.9756\n",
            "Epoch 81/100\n",
            "41/41 [==============================] - 0s 201us/step - loss: 0.1740 - acc: 0.9756\n",
            "Epoch 82/100\n",
            "41/41 [==============================] - 0s 204us/step - loss: 0.1708 - acc: 0.9756\n",
            "Epoch 83/100\n",
            "41/41 [==============================] - 0s 214us/step - loss: 0.1679 - acc: 0.9756\n",
            "Epoch 84/100\n",
            "41/41 [==============================] - 0s 268us/step - loss: 0.1651 - acc: 0.9756\n",
            "Epoch 85/100\n",
            "41/41 [==============================] - 0s 294us/step - loss: 0.1621 - acc: 0.9756\n",
            "Epoch 86/100\n",
            "41/41 [==============================] - 0s 489us/step - loss: 0.1592 - acc: 0.9756\n",
            "Epoch 87/100\n",
            "41/41 [==============================] - 0s 573us/step - loss: 0.1564 - acc: 0.9756\n",
            "Epoch 88/100\n",
            "41/41 [==============================] - 0s 372us/step - loss: 0.1538 - acc: 0.9756\n",
            "Epoch 89/100\n",
            "41/41 [==============================] - 0s 275us/step - loss: 0.1520 - acc: 0.9756\n",
            "Epoch 90/100\n",
            "41/41 [==============================] - 0s 325us/step - loss: 0.1499 - acc: 0.9756\n",
            "Epoch 91/100\n",
            "41/41 [==============================] - 0s 260us/step - loss: 0.1475 - acc: 0.9756\n",
            "Epoch 92/100\n",
            "41/41 [==============================] - 0s 303us/step - loss: 0.1452 - acc: 0.9756\n",
            "Epoch 93/100\n",
            "41/41 [==============================] - 0s 224us/step - loss: 0.1430 - acc: 0.9756\n",
            "Epoch 94/100\n",
            "41/41 [==============================] - 0s 226us/step - loss: 0.1406 - acc: 0.9756\n",
            "Epoch 95/100\n",
            "41/41 [==============================] - 0s 239us/step - loss: 0.1385 - acc: 0.9756\n",
            "Epoch 96/100\n",
            "41/41 [==============================] - 0s 211us/step - loss: 0.1363 - acc: 0.9756\n",
            "Epoch 97/100\n",
            "41/41 [==============================] - 0s 189us/step - loss: 0.1341 - acc: 0.9756\n",
            "Epoch 98/100\n",
            "41/41 [==============================] - 0s 190us/step - loss: 0.1320 - acc: 0.9756\n",
            "Epoch 99/100\n",
            "41/41 [==============================] - 0s 206us/step - loss: 0.1303 - acc: 0.9756\n",
            "Epoch 100/100\n",
            "41/41 [==============================] - 0s 254us/step - loss: 0.1283 - acc: 0.9756\n"
          ],
          "name": "stdout"
        },
        {
          "output_type": "execute_result",
          "data": {
            "text/plain": [
              "<keras.callbacks.History at 0x7f70d86c8898>"
            ]
          },
          "metadata": {
            "tags": []
          },
          "execution_count": 144
        }
      ]
    },
    {
      "cell_type": "code",
      "metadata": {
        "id": "F80EgIDg-7vg",
        "colab_type": "code",
        "colab": {
          "base_uri": "https://localhost:8080/",
          "height": 51
        },
        "outputId": "497b73ce-8cf9-44eb-900b-de932b599096"
      },
      "source": [
        "eval_model=classifier.evaluate(X_train, y_train)\n",
        "eval_model"
      ],
      "execution_count": 145,
      "outputs": [
        {
          "output_type": "stream",
          "text": [
            "41/41 [==============================] - 0s 2ms/step\n"
          ],
          "name": "stdout"
        },
        {
          "output_type": "execute_result",
          "data": {
            "text/plain": [
              "[0.12764039708346855, 0.9756097575513328]"
            ]
          },
          "metadata": {
            "tags": []
          },
          "execution_count": 145
        }
      ]
    },
    {
      "cell_type": "code",
      "metadata": {
        "id": "4_PEiqHH_FpT",
        "colab_type": "code",
        "colab": {}
      },
      "source": [
        "y_pred=classifier.predict(X_test)\n",
        "y_pred =(y_pred>0.5)"
      ],
      "execution_count": 0,
      "outputs": []
    },
    {
      "cell_type": "code",
      "metadata": {
        "id": "n8Cwuy5R_HDD",
        "colab_type": "code",
        "colab": {
          "base_uri": "https://localhost:8080/",
          "height": 51
        },
        "outputId": "cd799879-ecd1-41f9-c0d6-d1cbf372cd47"
      },
      "source": [
        "# Making the Confusion Matrix\n",
        "from sklearn.metrics import confusion_matrix\n",
        "cm = confusion_matrix(y_test, y_pred)\n",
        "# Making the Confusion Matrix\n",
        "from sklearn.metrics import confusion_matrix\n",
        "cm = confusion_matrix(y_test, y_pred)\n",
        "from sklearn.metrics import f1_score\n",
        "f1 = f1_score(y_test, y_pred, average='macro')\n",
        "cm1 = (cm[0][0]+cm[1][1])/(cm[0][0]+cm[1][1]+cm[0][1]+cm[1][0])\n",
        "print(\"cm = \", cm1)\n",
        "print(\"f1 = \", f1)"
      ],
      "execution_count": 147,
      "outputs": [
        {
          "output_type": "stream",
          "text": [
            "cm =  0.9681528662420382\n",
            "f1 =  0.9622686854121605\n"
          ],
          "name": "stdout"
        }
      ]
    }
  ]
}